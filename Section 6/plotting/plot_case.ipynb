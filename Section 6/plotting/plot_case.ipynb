{
  "nbformat": 4,
  "nbformat_minor": 0,
  "metadata": {
    "kernelspec": {
      "display_name": "DS",
      "language": "python",
      "name": "ds"
    },
    "language_info": {
      "codemirror_mode": {
        "name": "ipython",
        "version": 3
      },
      "file_extension": ".py",
      "mimetype": "text/x-python",
      "name": "python",
      "nbconvert_exporter": "python",
      "pygments_lexer": "ipython3",
      "version": "3.6.9"
    },
    "colab": {
      "name": "JV_plot_case.ipynb",
      "provenance": [],
      "collapsed_sections": []
    }
  },
  "cells": [
    {
      "cell_type": "code",
      "metadata": {
        "id": "J4vUiDG2zYaE",
        "colab_type": "code",
        "colab": {}
      },
      "source": [
        "import os"
      ],
      "execution_count": 0,
      "outputs": []
    },
    {
      "cell_type": "code",
      "metadata": {
        "id": "5wKDTDsuzYaN",
        "colab_type": "code",
        "colab": {}
      },
      "source": [
        "csv_files = [f for f in os.listdir('.') if os.path.isfile(f) and f.split('.')[-1] == 'csv']"
      ],
      "execution_count": 0,
      "outputs": []
    },
    {
      "cell_type": "code",
      "metadata": {
        "id": "XaiJuKi9r4oE",
        "colab_type": "code",
        "colab": {}
      },
      "source": [
        "import numpy"
      ],
      "execution_count": 0,
      "outputs": []
    },
    {
      "cell_type": "code",
      "metadata": {
        "id": "IEp9maza49oo",
        "colab_type": "code",
        "colab": {}
      },
      "source": [
        "left_corner_processor = lambda rad: lambda x: x[1]*(1+rad*2)/(x[0]+1+rad) if x[0] < rad else x[1]"
      ],
      "execution_count": 0,
      "outputs": []
    },
    {
      "cell_type": "code",
      "metadata": {
        "id": "E9gR4CMLzr2A",
        "colab_type": "code",
        "colab": {}
      },
      "source": [
        "def movingaverage(data_list, window_radius:int):\n",
        "  \"\"\"\n",
        "    0 > window_radius > len(data_list)/2\n",
        "  \"\"\"\n",
        "  window_size = 1 + window_radius*2\n",
        "  if window_size > len(data_list):\n",
        "    print(\"ERROR: window is larger than the data\")\n",
        "    return data_list\n",
        "  if window_radius == 0:\n",
        "    return data_list\n",
        "  window= numpy.ones(int(window_size))/float(window_size)\n",
        "  convolved = list(numpy.convolve(data_list, window, 'full'))[window_radius:-window_radius]\n",
        "  convolved = list(map(left_corner_processor(window_radius), enumerate(convolved)))\n",
        "  convolved.reverse()\n",
        "  convolved = list(map(left_corner_processor(window_radius), enumerate(convolved)))\n",
        "  convolved.reverse()\n",
        "  return convolved"
      ],
      "execution_count": 0,
      "outputs": []
    },
    {
      "cell_type": "code",
      "metadata": {
        "id": "6YEjOiRdzYaY",
        "colab_type": "code",
        "colab": {}
      },
      "source": [
        "import pandas as pd\n",
        "import matplotlib.pyplot as plt"
      ],
      "execution_count": 0,
      "outputs": []
    },
    {
      "cell_type": "code",
      "metadata": {
        "id": "VRvm92HZzYac",
        "colab_type": "code",
        "colab": {}
      },
      "source": [
        "df_filename_s = [(pd.read_csv(f), f) for f in csv_files]"
      ],
      "execution_count": 0,
      "outputs": []
    },
    {
      "cell_type": "code",
      "metadata": {
        "id": "cwJr1w-VzYag",
        "colab_type": "code",
        "colab": {}
      },
      "source": [
        "import re"
      ],
      "execution_count": 0,
      "outputs": []
    },
    {
      "cell_type": "code",
      "metadata": {
        "id": "P5rZo6w6zYak",
        "colab_type": "code",
        "colab": {}
      },
      "source": [
        "get_name = lambda f: re.split(' - |\\.', f)[1]"
      ],
      "execution_count": 0,
      "outputs": []
    },
    {
      "cell_type": "code",
      "metadata": {
        "id": "zuZM0yeVK7kI",
        "colab_type": "code",
        "colab": {}
      },
      "source": [
        "smoothness = 1"
      ],
      "execution_count": 0,
      "outputs": []
    },
    {
      "cell_type": "code",
      "metadata": {
        "id": "0BvUs_j_zYat",
        "colab_type": "code",
        "outputId": "fb9dd343-ddd1-4ac5-9b59-c9fcea0104b0",
        "colab": {
          "base_uri": "https://localhost:8080/",
          "height": 34
        }
      },
      "source": [
        "for df_filename in df_filename_s:\n",
        "  df_filename[0]['sphere_avg'] = movingaverage(df_filename[0]['sphere'], smoothness)\n",
        "  df_filename[0]['ball_avg'] = movingaverage(df_filename[0]['ball'], smoothness)\n",
        "  df_filename[0]['ball_dev'] = list(map(lambda x: numpy.abs(x[0]-x[1]), zip(df_filename[0]['ball_avg'], df_filename[0]['ball'])))\n",
        "  df_filename[0]['sphere_dev'] = list(map(lambda x: numpy.abs(x[0]-x[1]), zip(df_filename[0]['sphere_avg'], df_filename[0]['sphere'])))\n",
        "  \n",
        "  plt.plot('R', 'sphere_avg', data=df_filename[0], label='min LMI_P_dB', color='blue', linestyle='dashed')\n",
        "  plt.plot('R', 'ball_avg', data=df_filename[0], label='min LMI_P', color='red')\n",
        "  plt.fill_between(df_filename[0]['R'], numpy.subtract(df_filename[0]['ball_avg'], df_filename[0]['ball_dev']),\n",
        "                                        numpy.add(df_filename[0]['ball_avg'], df_filename[0]['ball_dev']), color='red', alpha=0.1)\n",
        "  plt.fill_between(df_filename[0]['R'], numpy.subtract(df_filename[0]['sphere_avg'], df_filename[0]['sphere_dev']),\n",
        "                                        numpy.add(df_filename[0]['sphere_avg'], df_filename[0]['sphere_dev']), color='blue', alpha=0.1)\n",
        "  \n",
        "  plt.legend()\n",
        "  plt.grid()\n",
        "  plt.xlabel(\"R\")\n",
        "  plt.ylabel(\"min value\")\n",
        "#   plt.title(get_name(df_filename[1]))\n",
        "  plt.savefig(get_name(df_filename[1]), dpi=600)\n",
        "  plt.clf()\n",
        "  # plt.show()"
      ],
      "execution_count": 0,
      "outputs": [
        {
          "output_type": "display_data",
          "data": {
            "text/plain": [
              "<Figure size 432x288 with 0 Axes>"
            ]
          },
          "metadata": {
            "tags": []
          }
        }
      ]
    }
  ]
}